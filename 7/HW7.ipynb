{
 "cells": [
  {
   "attachments": {},
   "cell_type": "markdown",
   "metadata": {},
   "source": [
    "## Libraries"
   ]
  },
  {
   "cell_type": "code",
   "execution_count": 2,
   "metadata": {},
   "outputs": [],
   "source": [
    "import pandas as pd\n",
    "import matplotlib.pyplot as plt\n",
    "import numpy as np\n",
    "import statsmodels.api as sm"
   ]
  },
  {
   "attachments": {},
   "cell_type": "markdown",
   "metadata": {},
   "source": [
    "## Loading and Organising Data"
   ]
  },
  {
   "cell_type": "code",
   "execution_count": 3,
   "metadata": {},
   "outputs": [
    {
     "name": "stdout",
     "output_type": "stream",
     "text": [
      "  Country Name  year       Exports           GDP    Government       Imports  \\\n",
      "0       Mexico  2000  2.130000e+11  8.760000e+11  1.150000e+11  2.510000e+11   \n",
      "1       Mexico  2001  2.110000e+11  8.730000e+11  1.120000e+11  2.490000e+11   \n",
      "2       Mexico  2002  2.120000e+11  8.730000e+11  1.130000e+11  2.520000e+11   \n",
      "3       Mexico  2003  2.160000e+11  8.850000e+11  1.120000e+11  2.590000e+11   \n",
      "4       Mexico  2004  2.380000e+11  9.200000e+11  1.110000e+11  2.750000e+11   \n",
      "\n",
      "    Population  \n",
      "0   97873442.0  \n",
      "1   99394288.0  \n",
      "2  100917081.0  \n",
      "3  102429341.0  \n",
      "4  103945813.0  \n"
     ]
    }
   ],
   "source": [
    "d= pd.read_csv('Mexico.csv')\n",
    "\n",
    "d= pd.melt(d, ('Country Name', 'Series Name'), var_name= 'year')\n",
    "d= d.pivot(index= ('Country Name', 'year'), columns= 'Series Name')\n",
    "d.columns= ['Exports', 'GDP', 'Government', 'Imports', 'Population']\n",
    "d= d.reset_index()\n",
    "print(d.head())"
   ]
  },
  {
   "attachments": {},
   "cell_type": "markdown",
   "metadata": {},
   "source": [
    "### Question 1"
   ]
  },
  {
   "cell_type": "code",
   "execution_count": 4,
   "metadata": {},
   "outputs": [
    {
     "name": "stderr",
     "output_type": "stream",
     "text": [
      "c:\\Users\\LENOVO\\anaconda3\\lib\\site-packages\\statsmodels\\tsa\\tsatools.py:142: FutureWarning: In a future version of pandas all arguments of concat except for the argument 'objs' will be keyword-only.\n",
      "  x = pd.concat(x[::order], 1)\n"
     ]
    },
    {
     "data": {
      "text/html": [
       "<table class=\"simpletable\">\n",
       "<caption>OLS Regression Results</caption>\n",
       "<tr>\n",
       "  <th>Dep. Variable:</th>           <td>GDP</td>       <th>  R-squared:         </th> <td>   0.995</td>\n",
       "</tr>\n",
       "<tr>\n",
       "  <th>Model:</th>                   <td>OLS</td>       <th>  Adj. R-squared:    </th> <td>   0.994</td>\n",
       "</tr>\n",
       "<tr>\n",
       "  <th>Method:</th>             <td>Least Squares</td>  <th>  F-statistic:       </th> <td>   1124.</td>\n",
       "</tr>\n",
       "<tr>\n",
       "  <th>Date:</th>             <td>Sun, 15 Jan 2023</td> <th>  Prob (F-statistic):</th> <td>9.70e-20</td>\n",
       "</tr>\n",
       "<tr>\n",
       "  <th>Time:</th>                 <td>20:14:29</td>     <th>  Log-Likelihood:    </th> <td> -511.11</td>\n",
       "</tr>\n",
       "<tr>\n",
       "  <th>No. Observations:</th>      <td>    21</td>      <th>  AIC:               </th> <td>   1030.</td>\n",
       "</tr>\n",
       "<tr>\n",
       "  <th>Df Residuals:</th>          <td>    17</td>      <th>  BIC:               </th> <td>   1034.</td>\n",
       "</tr>\n",
       "<tr>\n",
       "  <th>Df Model:</th>              <td>     3</td>      <th>                     </th>     <td> </td>   \n",
       "</tr>\n",
       "<tr>\n",
       "  <th>Covariance Type:</th>      <td>nonrobust</td>    <th>                     </th>     <td> </td>   \n",
       "</tr>\n",
       "</table>\n",
       "<table class=\"simpletable\">\n",
       "<tr>\n",
       "       <td></td>         <th>coef</th>     <th>std err</th>      <th>t</th>      <th>P>|t|</th>  <th>[0.025</th>    <th>0.975]</th>  \n",
       "</tr>\n",
       "<tr>\n",
       "  <th>const</th>      <td> 3.509e+11</td> <td>  5.6e+10</td> <td>    6.269</td> <td> 0.000</td> <td> 2.33e+11</td> <td> 4.69e+11</td>\n",
       "</tr>\n",
       "<tr>\n",
       "  <th>Imports</th>    <td>    1.7035</td> <td>    0.205</td> <td>    8.294</td> <td> 0.000</td> <td>    1.270</td> <td>    2.137</td>\n",
       "</tr>\n",
       "<tr>\n",
       "  <th>Exports</th>    <td>   -0.3879</td> <td>    0.238</td> <td>   -1.629</td> <td> 0.122</td> <td>   -0.890</td> <td>    0.114</td>\n",
       "</tr>\n",
       "<tr>\n",
       "  <th>Government</th> <td>    1.6506</td> <td>    0.664</td> <td>    2.484</td> <td> 0.024</td> <td>    0.249</td> <td>    3.053</td>\n",
       "</tr>\n",
       "</table>\n",
       "<table class=\"simpletable\">\n",
       "<tr>\n",
       "  <th>Omnibus:</th>       <td> 6.761</td> <th>  Durbin-Watson:     </th> <td>   1.296</td>\n",
       "</tr>\n",
       "<tr>\n",
       "  <th>Prob(Omnibus):</th> <td> 0.034</td> <th>  Jarque-Bera (JB):  </th> <td>   1.771</td>\n",
       "</tr>\n",
       "<tr>\n",
       "  <th>Skew:</th>          <td> 0.007</td> <th>  Prob(JB):          </th> <td>   0.413</td>\n",
       "</tr>\n",
       "<tr>\n",
       "  <th>Kurtosis:</th>      <td> 1.578</td> <th>  Cond. No.          </th> <td>1.31e+13</td>\n",
       "</tr>\n",
       "</table><br/><br/>Notes:<br/>[1] Standard Errors assume that the covariance matrix of the errors is correctly specified.<br/>[2] The condition number is large, 1.31e+13. This might indicate that there are<br/>strong multicollinearity or other numerical problems."
      ],
      "text/plain": [
       "<class 'statsmodels.iolib.summary.Summary'>\n",
       "\"\"\"\n",
       "                            OLS Regression Results                            \n",
       "==============================================================================\n",
       "Dep. Variable:                    GDP   R-squared:                       0.995\n",
       "Model:                            OLS   Adj. R-squared:                  0.994\n",
       "Method:                 Least Squares   F-statistic:                     1124.\n",
       "Date:                Sun, 15 Jan 2023   Prob (F-statistic):           9.70e-20\n",
       "Time:                        20:14:29   Log-Likelihood:                -511.11\n",
       "No. Observations:                  21   AIC:                             1030.\n",
       "Df Residuals:                      17   BIC:                             1034.\n",
       "Df Model:                           3                                         \n",
       "Covariance Type:            nonrobust                                         \n",
       "==============================================================================\n",
       "                 coef    std err          t      P>|t|      [0.025      0.975]\n",
       "------------------------------------------------------------------------------\n",
       "const       3.509e+11    5.6e+10      6.269      0.000    2.33e+11    4.69e+11\n",
       "Imports        1.7035      0.205      8.294      0.000       1.270       2.137\n",
       "Exports       -0.3879      0.238     -1.629      0.122      -0.890       0.114\n",
       "Government     1.6506      0.664      2.484      0.024       0.249       3.053\n",
       "==============================================================================\n",
       "Omnibus:                        6.761   Durbin-Watson:                   1.296\n",
       "Prob(Omnibus):                  0.034   Jarque-Bera (JB):                1.771\n",
       "Skew:                           0.007   Prob(JB):                        0.413\n",
       "Kurtosis:                       1.578   Cond. No.                     1.31e+13\n",
       "==============================================================================\n",
       "\n",
       "Notes:\n",
       "[1] Standard Errors assume that the covariance matrix of the errors is correctly specified.\n",
       "[2] The condition number is large, 1.31e+13. This might indicate that there are\n",
       "strong multicollinearity or other numerical problems.\n",
       "\"\"\""
      ]
     },
     "execution_count": 4,
     "metadata": {},
     "output_type": "execute_result"
    }
   ],
   "source": [
    "X= ['Imports', 'Exports', 'Government']\n",
    "y= 'GDP'\n",
    "\n",
    "model1= sm.OLS(d[y], sm.add_constant(d[X])).fit()\n",
    "model1.summary()"
   ]
  },
  {
   "attachments": {},
   "cell_type": "markdown",
   "metadata": {},
   "source": [
    "We see that the coefficients of imports and government are statistically meaningfull and positive. government coef. is 3 times higher than imports meaning that the increase of goverment expenditures may have a tripple effect on the GDP."
   ]
  },
  {
   "attachments": {},
   "cell_type": "markdown",
   "metadata": {},
   "source": [
    "### Question 2"
   ]
  },
  {
   "cell_type": "code",
   "execution_count": 5,
   "metadata": {},
   "outputs": [
    {
     "name": "stderr",
     "output_type": "stream",
     "text": [
      "c:\\Users\\LENOVO\\anaconda3\\lib\\site-packages\\statsmodels\\tsa\\tsatools.py:142: FutureWarning: In a future version of pandas all arguments of concat except for the argument 'objs' will be keyword-only.\n",
      "  x = pd.concat(x[::order], 1)\n"
     ]
    },
    {
     "data": {
      "text/html": [
       "<table class=\"simpletable\">\n",
       "<caption>OLS Regression Results</caption>\n",
       "<tr>\n",
       "  <th>Dep. Variable:</th>           <td>GDP</td>       <th>  R-squared:         </th> <td>   0.996</td>\n",
       "</tr>\n",
       "<tr>\n",
       "  <th>Model:</th>                   <td>OLS</td>       <th>  Adj. R-squared:    </th> <td>   0.996</td>\n",
       "</tr>\n",
       "<tr>\n",
       "  <th>Method:</th>             <td>Least Squares</td>  <th>  F-statistic:       </th> <td>   1505.</td>\n",
       "</tr>\n",
       "<tr>\n",
       "  <th>Date:</th>             <td>Sun, 15 Jan 2023</td> <th>  Prob (F-statistic):</th> <td>8.25e-21</td>\n",
       "</tr>\n",
       "<tr>\n",
       "  <th>Time:</th>                 <td>20:14:42</td>     <th>  Log-Likelihood:    </th> <td>  73.167</td>\n",
       "</tr>\n",
       "<tr>\n",
       "  <th>No. Observations:</th>      <td>    21</td>      <th>  AIC:               </th> <td>  -138.3</td>\n",
       "</tr>\n",
       "<tr>\n",
       "  <th>Df Residuals:</th>          <td>    17</td>      <th>  BIC:               </th> <td>  -134.2</td>\n",
       "</tr>\n",
       "<tr>\n",
       "  <th>Df Model:</th>              <td>     3</td>      <th>                     </th>     <td> </td>   \n",
       "</tr>\n",
       "<tr>\n",
       "  <th>Covariance Type:</th>      <td>nonrobust</td>    <th>                     </th>     <td> </td>   \n",
       "</tr>\n",
       "</table>\n",
       "<table class=\"simpletable\">\n",
       "<tr>\n",
       "       <td></td>         <th>coef</th>     <th>std err</th>      <th>t</th>      <th>P>|t|</th>  <th>[0.025</th>    <th>0.975]</th>  \n",
       "</tr>\n",
       "<tr>\n",
       "  <th>const</th>      <td>   11.0887</td> <td>    1.129</td> <td>    9.818</td> <td> 0.000</td> <td>    8.706</td> <td>   13.471</td>\n",
       "</tr>\n",
       "<tr>\n",
       "  <th>Imports</th>    <td>    0.5459</td> <td>    0.066</td> <td>    8.247</td> <td> 0.000</td> <td>    0.406</td> <td>    0.685</td>\n",
       "</tr>\n",
       "<tr>\n",
       "  <th>Exports</th>    <td>   -0.0717</td> <td>    0.067</td> <td>   -1.071</td> <td> 0.299</td> <td>   -0.213</td> <td>    0.069</td>\n",
       "</tr>\n",
       "<tr>\n",
       "  <th>Government</th> <td>    0.1553</td> <td>    0.067</td> <td>    2.313</td> <td> 0.034</td> <td>    0.014</td> <td>    0.297</td>\n",
       "</tr>\n",
       "</table>\n",
       "<table class=\"simpletable\">\n",
       "<tr>\n",
       "  <th>Omnibus:</th>       <td> 0.121</td> <th>  Durbin-Watson:     </th> <td>   2.059</td>\n",
       "</tr>\n",
       "<tr>\n",
       "  <th>Prob(Omnibus):</th> <td> 0.941</td> <th>  Jarque-Bera (JB):  </th> <td>   0.301</td>\n",
       "</tr>\n",
       "<tr>\n",
       "  <th>Skew:</th>          <td> 0.137</td> <th>  Prob(JB):          </th> <td>   0.860</td>\n",
       "</tr>\n",
       "<tr>\n",
       "  <th>Kurtosis:</th>      <td> 2.481</td> <th>  Cond. No.          </th> <td>2.86e+04</td>\n",
       "</tr>\n",
       "</table><br/><br/>Notes:<br/>[1] Standard Errors assume that the covariance matrix of the errors is correctly specified.<br/>[2] The condition number is large, 2.86e+04. This might indicate that there are<br/>strong multicollinearity or other numerical problems."
      ],
      "text/plain": [
       "<class 'statsmodels.iolib.summary.Summary'>\n",
       "\"\"\"\n",
       "                            OLS Regression Results                            \n",
       "==============================================================================\n",
       "Dep. Variable:                    GDP   R-squared:                       0.996\n",
       "Model:                            OLS   Adj. R-squared:                  0.996\n",
       "Method:                 Least Squares   F-statistic:                     1505.\n",
       "Date:                Sun, 15 Jan 2023   Prob (F-statistic):           8.25e-21\n",
       "Time:                        20:14:42   Log-Likelihood:                 73.167\n",
       "No. Observations:                  21   AIC:                            -138.3\n",
       "Df Residuals:                      17   BIC:                            -134.2\n",
       "Df Model:                           3                                         \n",
       "Covariance Type:            nonrobust                                         \n",
       "==============================================================================\n",
       "                 coef    std err          t      P>|t|      [0.025      0.975]\n",
       "------------------------------------------------------------------------------\n",
       "const         11.0887      1.129      9.818      0.000       8.706      13.471\n",
       "Imports        0.5459      0.066      8.247      0.000       0.406       0.685\n",
       "Exports       -0.0717      0.067     -1.071      0.299      -0.213       0.069\n",
       "Government     0.1553      0.067      2.313      0.034       0.014       0.297\n",
       "==============================================================================\n",
       "Omnibus:                        0.121   Durbin-Watson:                   2.059\n",
       "Prob(Omnibus):                  0.941   Jarque-Bera (JB):                0.301\n",
       "Skew:                           0.137   Prob(JB):                        0.860\n",
       "Kurtosis:                       2.481   Cond. No.                     2.86e+04\n",
       "==============================================================================\n",
       "\n",
       "Notes:\n",
       "[1] Standard Errors assume that the covariance matrix of the errors is correctly specified.\n",
       "[2] The condition number is large, 2.86e+04. This might indicate that there are\n",
       "strong multicollinearity or other numerical problems.\n",
       "\"\"\""
      ]
     },
     "execution_count": 5,
     "metadata": {},
     "output_type": "execute_result"
    }
   ],
   "source": [
    "X= ['Imports', 'Exports', 'Government']\n",
    "y= 'GDP'\n",
    "\n",
    "model2= sm.OLS(np.log(d[y]), sm.add_constant(np.log(d[X]))).fit()\n",
    "model2.summary()"
   ]
  },
  {
   "attachments": {},
   "cell_type": "markdown",
   "metadata": {},
   "source": [
    "Log regresion result have same results in case of significance. We see that the coef of imports is higher in this case meaning that a percent of increae in imports would result in 0.5% increase in GDP. This number for the increase of government expenditure is about 0.16%. In both models R2 has a very high value."
   ]
  },
  {
   "attachments": {},
   "cell_type": "markdown",
   "metadata": {},
   "source": [
    "Question 3"
   ]
  },
  {
   "cell_type": "code",
   "execution_count": 6,
   "metadata": {},
   "outputs": [
    {
     "name": "stderr",
     "output_type": "stream",
     "text": [
      "c:\\Users\\LENOVO\\anaconda3\\lib\\site-packages\\statsmodels\\tsa\\tsatools.py:142: FutureWarning: In a future version of pandas all arguments of concat except for the argument 'objs' will be keyword-only.\n",
      "  x = pd.concat(x[::order], 1)\n"
     ]
    },
    {
     "data": {
      "text/html": [
       "<table class=\"simpletable\">\n",
       "<caption>OLS Regression Results</caption>\n",
       "<tr>\n",
       "  <th>Dep. Variable:</th>      <td>GDPperCapita</td>   <th>  R-squared:         </th> <td>   0.959</td>\n",
       "</tr>\n",
       "<tr>\n",
       "  <th>Model:</th>                   <td>OLS</td>       <th>  Adj. R-squared:    </th> <td>   0.952</td>\n",
       "</tr>\n",
       "<tr>\n",
       "  <th>Method:</th>             <td>Least Squares</td>  <th>  F-statistic:       </th> <td>   133.8</td>\n",
       "</tr>\n",
       "<tr>\n",
       "  <th>Date:</th>             <td>Sun, 15 Jan 2023</td> <th>  Prob (F-statistic):</th> <td>5.05e-12</td>\n",
       "</tr>\n",
       "<tr>\n",
       "  <th>Time:</th>                 <td>20:16:29</td>     <th>  Log-Likelihood:    </th> <td> -124.89</td>\n",
       "</tr>\n",
       "<tr>\n",
       "  <th>No. Observations:</th>      <td>    21</td>      <th>  AIC:               </th> <td>   257.8</td>\n",
       "</tr>\n",
       "<tr>\n",
       "  <th>Df Residuals:</th>          <td>    17</td>      <th>  BIC:               </th> <td>   262.0</td>\n",
       "</tr>\n",
       "<tr>\n",
       "  <th>Df Model:</th>              <td>     3</td>      <th>                     </th>     <td> </td>   \n",
       "</tr>\n",
       "<tr>\n",
       "  <th>Covariance Type:</th>      <td>nonrobust</td>    <th>                     </th>     <td> </td>   \n",
       "</tr>\n",
       "</table>\n",
       "<table class=\"simpletable\">\n",
       "<tr>\n",
       "           <td></td>              <th>coef</th>     <th>std err</th>      <th>t</th>      <th>P>|t|</th>  <th>[0.025</th>    <th>0.975]</th>  \n",
       "</tr>\n",
       "<tr>\n",
       "  <th>const</th>               <td> 4676.6132</td> <td>  880.537</td> <td>    5.311</td> <td> 0.000</td> <td> 2818.843</td> <td> 6534.383</td>\n",
       "</tr>\n",
       "<tr>\n",
       "  <th>ImportsperCapita</th>    <td>    1.7594</td> <td>    0.245</td> <td>    7.179</td> <td> 0.000</td> <td>    1.242</td> <td>    2.276</td>\n",
       "</tr>\n",
       "<tr>\n",
       "  <th>ExportsperCapita</th>    <td>   -0.8110</td> <td>    0.232</td> <td>   -3.492</td> <td> 0.003</td> <td>   -1.301</td> <td>   -0.321</td>\n",
       "</tr>\n",
       "<tr>\n",
       "  <th>GovernmentperCapita</th> <td>    1.1932</td> <td>    0.858</td> <td>    1.391</td> <td> 0.182</td> <td>   -0.617</td> <td>    3.003</td>\n",
       "</tr>\n",
       "</table>\n",
       "<table class=\"simpletable\">\n",
       "<tr>\n",
       "  <th>Omnibus:</th>       <td> 2.705</td> <th>  Durbin-Watson:     </th> <td>   0.979</td>\n",
       "</tr>\n",
       "<tr>\n",
       "  <th>Prob(Omnibus):</th> <td> 0.259</td> <th>  Jarque-Bera (JB):  </th> <td>   1.237</td>\n",
       "</tr>\n",
       "<tr>\n",
       "  <th>Skew:</th>          <td>-0.137</td> <th>  Prob(JB):          </th> <td>   0.539</td>\n",
       "</tr>\n",
       "<tr>\n",
       "  <th>Kurtosis:</th>      <td> 1.843</td> <th>  Cond. No.          </th> <td>1.73e+05</td>\n",
       "</tr>\n",
       "</table><br/><br/>Notes:<br/>[1] Standard Errors assume that the covariance matrix of the errors is correctly specified.<br/>[2] The condition number is large, 1.73e+05. This might indicate that there are<br/>strong multicollinearity or other numerical problems."
      ],
      "text/plain": [
       "<class 'statsmodels.iolib.summary.Summary'>\n",
       "\"\"\"\n",
       "                            OLS Regression Results                            \n",
       "==============================================================================\n",
       "Dep. Variable:           GDPperCapita   R-squared:                       0.959\n",
       "Model:                            OLS   Adj. R-squared:                  0.952\n",
       "Method:                 Least Squares   F-statistic:                     133.8\n",
       "Date:                Sun, 15 Jan 2023   Prob (F-statistic):           5.05e-12\n",
       "Time:                        20:16:29   Log-Likelihood:                -124.89\n",
       "No. Observations:                  21   AIC:                             257.8\n",
       "Df Residuals:                      17   BIC:                             262.0\n",
       "Df Model:                           3                                         \n",
       "Covariance Type:            nonrobust                                         \n",
       "=======================================================================================\n",
       "                          coef    std err          t      P>|t|      [0.025      0.975]\n",
       "---------------------------------------------------------------------------------------\n",
       "const                4676.6132    880.537      5.311      0.000    2818.843    6534.383\n",
       "ImportsperCapita        1.7594      0.245      7.179      0.000       1.242       2.276\n",
       "ExportsperCapita       -0.8110      0.232     -3.492      0.003      -1.301      -0.321\n",
       "GovernmentperCapita     1.1932      0.858      1.391      0.182      -0.617       3.003\n",
       "==============================================================================\n",
       "Omnibus:                        2.705   Durbin-Watson:                   0.979\n",
       "Prob(Omnibus):                  0.259   Jarque-Bera (JB):                1.237\n",
       "Skew:                          -0.137   Prob(JB):                        0.539\n",
       "Kurtosis:                       1.843   Cond. No.                     1.73e+05\n",
       "==============================================================================\n",
       "\n",
       "Notes:\n",
       "[1] Standard Errors assume that the covariance matrix of the errors is correctly specified.\n",
       "[2] The condition number is large, 1.73e+05. This might indicate that there are\n",
       "strong multicollinearity or other numerical problems.\n",
       "\"\"\""
      ]
     },
     "execution_count": 6,
     "metadata": {},
     "output_type": "execute_result"
    }
   ],
   "source": [
    "d['GDPperCapita']= d['GDP']/ d['Population']\n",
    "d['GovernmentperCapita']= d['Government']/ d['Population']\n",
    "d['ExportsperCapita']= d['Exports']/ d['Population']\n",
    "d['ImportsperCapita']= d['Imports']/ d['Population']\n",
    "\n",
    "X= ['ImportsperCapita', 'ExportsperCapita', 'GovernmentperCapita']\n",
    "y= 'GDPperCapita'\n",
    "\n",
    "model3= sm.OLS(d[y], sm.add_constant(d[X])).fit()\n",
    "model3.summary()"
   ]
  },
  {
   "attachments": {},
   "cell_type": "markdown",
   "metadata": {},
   "source": [
    "In the per capita case, the coef for imports is positive and exports in negative. government expending is also positive but it is not statistically significant. one unit increase of imports per capita would increase gdp per capita by 1.76. 1 unit increase in exports per capita would decrease gdp per capita by -0.81."
   ]
  },
  {
   "cell_type": "code",
   "execution_count": null,
   "metadata": {},
   "outputs": [],
   "source": []
  },
  {
   "cell_type": "code",
   "execution_count": null,
   "metadata": {},
   "outputs": [],
   "source": []
  },
  {
   "cell_type": "code",
   "execution_count": null,
   "metadata": {},
   "outputs": [],
   "source": []
  },
  {
   "cell_type": "code",
   "execution_count": null,
   "metadata": {},
   "outputs": [],
   "source": []
  },
  {
   "cell_type": "code",
   "execution_count": null,
   "metadata": {},
   "outputs": [],
   "source": []
  },
  {
   "cell_type": "code",
   "execution_count": null,
   "metadata": {},
   "outputs": [],
   "source": []
  }
 ],
 "metadata": {
  "kernelspec": {
   "display_name": "Python 3.8.8 ('base')",
   "language": "python",
   "name": "python3"
  },
  "language_info": {
   "codemirror_mode": {
    "name": "ipython",
    "version": 3
   },
   "file_extension": ".py",
   "mimetype": "text/x-python",
   "name": "python",
   "nbconvert_exporter": "python",
   "pygments_lexer": "ipython3",
   "version": "3.8.8"
  },
  "orig_nbformat": 4,
  "vscode": {
   "interpreter": {
    "hash": "7679c2132d3f6ce38c9df14d554b39c06862b36a4e6689c81f9ae15bd0911d7d"
   }
  }
 },
 "nbformat": 4,
 "nbformat_minor": 2
}
